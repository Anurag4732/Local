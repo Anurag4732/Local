{
 "cells": [
  {
   "cell_type": "code",
   "execution_count": 1,
   "metadata": {},
   "outputs": [],
   "source": [
    "import pandas as pd\n",
    "import numpy as np\n",
    "import matplotlib.pyplot as plt\n",
    "from sklearn.linear_model import LinearRegression\n",
    "from sklearn import metrics\n",
    "from sklearn.model_selection import train_test_split\n",
    "df=pd.read_csv('analytic.csv')\n",
    "df.drop(['Unnamed: 0'],axis=1,inplace=True)\n",
    "df['center_type']=df['center_type'].map({'TYPE_C':3, 'TYPE_B':2, 'TYPE_A':1})"
   ]
  },
  {
   "cell_type": "code",
   "execution_count": 2,
   "metadata": {},
   "outputs": [],
   "source": [
    "# https://towardsdatascience.com/exploring-your-data-with-just-1-line-of-python-4b35ce21a82d\n",
    "# import pandas_profiling\n",
    "# df.profile_report()"
   ]
  },
  {
   "cell_type": "code",
   "execution_count": 2,
   "metadata": {},
   "outputs": [
    {
     "data": {
      "text/html": [
       "<div>\n",
       "<style scoped>\n",
       "    .dataframe tbody tr th:only-of-type {\n",
       "        vertical-align: middle;\n",
       "    }\n",
       "\n",
       "    .dataframe tbody tr th {\n",
       "        vertical-align: top;\n",
       "    }\n",
       "\n",
       "    .dataframe thead th {\n",
       "        text-align: right;\n",
       "    }\n",
       "</style>\n",
       "<table border=\"1\" class=\"dataframe\">\n",
       "  <thead>\n",
       "    <tr style=\"text-align: right;\">\n",
       "      <th></th>\n",
       "      <th>id</th>\n",
       "      <th>week</th>\n",
       "      <th>center_id</th>\n",
       "      <th>meal_id</th>\n",
       "      <th>checkout_price</th>\n",
       "      <th>base_price</th>\n",
       "      <th>emailer_for_promotion</th>\n",
       "      <th>homepage_featured</th>\n",
       "      <th>num_orders</th>\n",
       "      <th>category</th>\n",
       "      <th>cuisine</th>\n",
       "      <th>city_code</th>\n",
       "      <th>region_code</th>\n",
       "      <th>center_type</th>\n",
       "      <th>op_area</th>\n",
       "      <th>diff</th>\n",
       "      <th>check_</th>\n",
       "    </tr>\n",
       "  </thead>\n",
       "  <tbody>\n",
       "    <tr>\n",
       "      <td>0</td>\n",
       "      <td>1379560</td>\n",
       "      <td>1</td>\n",
       "      <td>55</td>\n",
       "      <td>1885</td>\n",
       "      <td>136.83</td>\n",
       "      <td>152.29</td>\n",
       "      <td>0</td>\n",
       "      <td>0</td>\n",
       "      <td>177</td>\n",
       "      <td>1</td>\n",
       "      <td>2</td>\n",
       "      <td>647</td>\n",
       "      <td>56</td>\n",
       "      <td>3</td>\n",
       "      <td>2.0</td>\n",
       "      <td>15.46</td>\n",
       "      <td>-99.742821</td>\n",
       "    </tr>\n",
       "    <tr>\n",
       "      <td>1</td>\n",
       "      <td>1018704</td>\n",
       "      <td>2</td>\n",
       "      <td>55</td>\n",
       "      <td>1885</td>\n",
       "      <td>135.83</td>\n",
       "      <td>152.29</td>\n",
       "      <td>0</td>\n",
       "      <td>0</td>\n",
       "      <td>323</td>\n",
       "      <td>1</td>\n",
       "      <td>2</td>\n",
       "      <td>647</td>\n",
       "      <td>56</td>\n",
       "      <td>3</td>\n",
       "      <td>2.0</td>\n",
       "      <td>16.46</td>\n",
       "      <td>-99.013867</td>\n",
       "    </tr>\n",
       "    <tr>\n",
       "      <td>2</td>\n",
       "      <td>1196273</td>\n",
       "      <td>3</td>\n",
       "      <td>55</td>\n",
       "      <td>1885</td>\n",
       "      <td>132.92</td>\n",
       "      <td>133.92</td>\n",
       "      <td>0</td>\n",
       "      <td>0</td>\n",
       "      <td>96</td>\n",
       "      <td>1</td>\n",
       "      <td>2</td>\n",
       "      <td>647</td>\n",
       "      <td>56</td>\n",
       "      <td>3</td>\n",
       "      <td>2.0</td>\n",
       "      <td>1.00</td>\n",
       "      <td>-96.892610</td>\n",
       "    </tr>\n",
       "    <tr>\n",
       "      <td>3</td>\n",
       "      <td>1116527</td>\n",
       "      <td>4</td>\n",
       "      <td>55</td>\n",
       "      <td>1885</td>\n",
       "      <td>135.86</td>\n",
       "      <td>134.86</td>\n",
       "      <td>0</td>\n",
       "      <td>0</td>\n",
       "      <td>163</td>\n",
       "      <td>1</td>\n",
       "      <td>2</td>\n",
       "      <td>647</td>\n",
       "      <td>56</td>\n",
       "      <td>3</td>\n",
       "      <td>2.0</td>\n",
       "      <td>-1.00</td>\n",
       "      <td>-99.035735</td>\n",
       "    </tr>\n",
       "    <tr>\n",
       "      <td>4</td>\n",
       "      <td>1343872</td>\n",
       "      <td>5</td>\n",
       "      <td>55</td>\n",
       "      <td>1885</td>\n",
       "      <td>146.50</td>\n",
       "      <td>147.50</td>\n",
       "      <td>0</td>\n",
       "      <td>0</td>\n",
       "      <td>215</td>\n",
       "      <td>1</td>\n",
       "      <td>2</td>\n",
       "      <td>647</td>\n",
       "      <td>56</td>\n",
       "      <td>3</td>\n",
       "      <td>2.0</td>\n",
       "      <td>1.00</td>\n",
       "      <td>-106.791809</td>\n",
       "    </tr>\n",
       "  </tbody>\n",
       "</table>\n",
       "</div>"
      ],
      "text/plain": [
       "        id  week  center_id  meal_id  checkout_price  base_price  \\\n",
       "0  1379560     1         55     1885          136.83      152.29   \n",
       "1  1018704     2         55     1885          135.83      152.29   \n",
       "2  1196273     3         55     1885          132.92      133.92   \n",
       "3  1116527     4         55     1885          135.86      134.86   \n",
       "4  1343872     5         55     1885          146.50      147.50   \n",
       "\n",
       "   emailer_for_promotion  homepage_featured  num_orders  category  cuisine  \\\n",
       "0                      0                  0         177         1        2   \n",
       "1                      0                  0         323         1        2   \n",
       "2                      0                  0          96         1        2   \n",
       "3                      0                  0         163         1        2   \n",
       "4                      0                  0         215         1        2   \n",
       "\n",
       "   city_code  region_code  center_type  op_area   diff      check_  \n",
       "0        647           56            3      2.0  15.46  -99.742821  \n",
       "1        647           56            3      2.0  16.46  -99.013867  \n",
       "2        647           56            3      2.0   1.00  -96.892610  \n",
       "3        647           56            3      2.0  -1.00  -99.035735  \n",
       "4        647           56            3      2.0   1.00 -106.791809  "
      ]
     },
     "execution_count": 2,
     "metadata": {},
     "output_type": "execute_result"
    }
   ],
   "source": [
    "df['check_']=df['checkout_price']*-0.72895433\n",
    "df.head()"
   ]
  },
  {
   "cell_type": "code",
   "execution_count": 3,
   "metadata": {},
   "outputs": [
    {
     "data": {
      "text/plain": [
       "homepage_featured        0.294490\n",
       "emailer_for_promotion    0.277147\n",
       "op_area                  0.176976\n",
       "diff                     0.152950\n",
       "city_code                0.041596\n",
       "Name: num_orders, dtype: float64"
      ]
     },
     "execution_count": 3,
     "metadata": {},
     "output_type": "execute_result"
    }
   ],
   "source": [
    "df.corr()['num_orders'].sort_values(ascending=False)[1:6]"
   ]
  },
  {
   "cell_type": "code",
   "execution_count": 3,
   "metadata": {},
   "outputs": [
    {
     "name": "stderr",
     "output_type": "stream",
     "text": [
      "c:\\users\\anurag\\appdata\\local\\programs\\python\\python35-32\\lib\\site-packages\\sklearn\\ensemble\\forest.py:245: FutureWarning: The default value of n_estimators will change from 10 in version 0.20 to 100 in 0.22.\n",
      "  \"10 in version 0.20 to 100 in 0.22.\", FutureWarning)\n"
     ]
    },
    {
     "name": "stdout",
     "output_type": "stream",
     "text": [
      "347.3017532822418\n",
      "0.1988400920696609\n"
     ]
    }
   ],
   "source": [
    "from sklearn.ensemble import RandomForestRegressor\n",
    "model=RandomForestRegressor()\n",
    "x=df[['homepage_featured','emailer_for_promotion','op_area','diff','city_code']]\n",
    "y=df['num_orders']\n",
    "from sklearn.model_selection import train_test_split\n",
    "x_train,x_test,y_train,y_test=train_test_split(x,y)\n",
    "model.fit(x_train,y_train)\n",
    "y_pred=model.predict(x_test) \n",
    "import sklearn.metrics as metrics\n",
    "import numpy as np\n",
    "print(np.sqrt(metrics.mean_squared_error(y_pred,y_test)))\n",
    "print(metrics.r2_score(y_test,y_pred))"
   ]
  },
  {
   "cell_type": "code",
   "execution_count": 42,
   "metadata": {},
   "outputs": [],
   "source": [
    "# (1)..Basic EDA for making new feature\n",
    "# (1)..Feature selection\n",
    "# (1)..PCA"
   ]
  },
  {
   "cell_type": "code",
   "execution_count": 13,
   "metadata": {},
   "outputs": [],
   "source": [
    "#Basic EDA for making new feature:-"
   ]
  },
  {
   "cell_type": "markdown",
   "metadata": {},
   "source": [
    "# checkout price badega to nu of order kamm honge"
   ]
  },
  {
   "cell_type": "code",
   "execution_count": 134,
   "metadata": {},
   "outputs": [
    {
     "data": {
      "text/plain": [
       "homepage_featured        0.294490\n",
       "check_                   0.282108\n",
       "emailer_for_promotion    0.277147\n",
       "op_area                  0.176976\n",
       "diff                     0.152950\n",
       "Name: num_orders, dtype: float64"
      ]
     },
     "execution_count": 134,
     "metadata": {},
     "output_type": "execute_result"
    }
   ],
   "source": [
    "df.corr()['num_orders'].sort_values(ascending=False)[1:6] "
   ]
  },
  {
   "cell_type": "code",
   "execution_count": 5,
   "metadata": {},
   "outputs": [
    {
     "data": {
      "text/plain": [
       "checkout_price   -0.282108\n",
       "category         -0.266118\n",
       "base_price       -0.222306\n",
       "cuisine          -0.177768\n",
       "center_id        -0.053035\n",
       "Name: num_orders, dtype: float64"
      ]
     },
     "execution_count": 5,
     "metadata": {},
     "output_type": "execute_result"
    }
   ],
   "source": [
    "df.corr()['num_orders'].sort_values()[:5] #--->checkout price badega to nu of order kamm honge"
   ]
  },
  {
   "cell_type": "code",
   "execution_count": 69,
   "metadata": {},
   "outputs": [
    {
     "data": {
      "text/plain": [
       "<BarContainer object of 1500 artists>"
      ]
     },
     "execution_count": 69,
     "metadata": {},
     "output_type": "execute_result"
    },
    {
     "data": {
      "image/png": "[encoded data removed]",
      "text/plain": [
       "<Figure size 1080x360 with 1 Axes>"
      ]
     },
     "metadata": {
      "needs_background": "light"
     },
     "output_type": "display_data"
    }
   ],
   "source": [
    "plt.figure(figsize=(15,5))\n",
    "#plt.plot(np.arange(100,200),np.array(350)*np.ones(100,dtype=np.int),'g')\n",
    "plt.bar(df['checkout_price'][500:2000],df['num_orders'][500:2000])"
   ]
  },
  {
   "cell_type": "code",
   "execution_count": null,
   "metadata": {},
   "outputs": [],
   "source": [
    "# plt.scatter(X_test, y_test,  color='gray')\n",
    "# plt.plot(X_test, y_pred, color='red', linewidth=2)\n",
    "# plt.show()\n",
    "\n",
    "\n",
    "# X = dataset[['fixed acidity', 'volatile acidity', 'citric acid', \n",
    "#              'residual sugar', 'chlorides', 'free sulfur dioxide',\n",
    "#              'total sulfur dioxide', 'density', 'pH', 'sulphates','alcohol']].values\n",
    "# y = dataset['quality'].values\n",
    "\n",
    "# regressor.coef_\n",
    "# coeff_df = pd.DataFrame(regressor.coef_, X.columns, columns=['Coefficient'])  \n",
    "# coeff_df\n",
    "\n",
    "# The error itself solves your problem. Just follow what it says. The predict() method takes a 2d \n",
    "# array of values you want to predict on. \n",
    "# Each item in the array is a \"point\" you want your model to predict on. So try,\n",
    "# lin_reg_2.predict(np.array([6.5]).reshape(1, 1))"
   ]
  },
  {
   "cell_type": "code",
   "execution_count": 49,
   "metadata": {},
   "outputs": [],
   "source": [
    "from sklearn.linear_model import LinearRegression\n",
    "model=LinearRegression()\n",
    "x=df['checkout_price'].values\n",
    "y=df['num_orders'].values"
   ]
  },
  {
   "cell_type": "code",
   "execution_count": 50,
   "metadata": {},
   "outputs": [],
   "source": [
    "x=df['checkout_price'].values\n",
    "x=x.reshape(-1,1)"
   ]
  },
  {
   "cell_type": "code",
   "execution_count": 51,
   "metadata": {},
   "outputs": [],
   "source": [
    "x_train,x_test,y_train,y_test=train_test_split(x,y)"
   ]
  },
  {
   "cell_type": "code",
   "execution_count": 52,
   "metadata": {},
   "outputs": [
    {
     "data": {
      "text/plain": [
       "LinearRegression(copy_X=True, fit_intercept=True, n_jobs=None, normalize=False)"
      ]
     },
     "execution_count": 52,
     "metadata": {},
     "output_type": "execute_result"
    }
   ],
   "source": [
    "model.fit(x_train,y_train)"
   ]
  },
  {
   "cell_type": "code",
   "execution_count": 53,
   "metadata": {},
   "outputs": [],
   "source": [
    "y_pred=model.predict(x_test)"
   ]
  },
  {
   "cell_type": "code",
   "execution_count": 54,
   "metadata": {},
   "outputs": [
    {
     "data": {
      "text/plain": [
       "<matplotlib.collections.PathCollection at 0xe107db0>"
      ]
     },
     "execution_count": 54,
     "metadata": {},
     "output_type": "execute_result"
    },
    {
     "data": {
      "image/png": "[encoded data removed]",
      "text/plain": [
       "<Figure size 432x288 with 1 Axes>"
      ]
     },
     "metadata": {
      "needs_background": "light"
     },
     "output_type": "display_data"
    }
   ],
   "source": [
    "plt.scatter(x_test,y_test)\n",
    "plt.scatter(x_test,y_pred)"
   ]
  },
  {
   "cell_type": "code",
   "execution_count": 55,
   "metadata": {},
   "outputs": [
    {
     "data": {
      "text/plain": [
       "array([-0.72895433])"
      ]
     },
     "execution_count": 55,
     "metadata": {},
     "output_type": "execute_result"
    }
   ],
   "source": [
    "model.coef_"
   ]
  },
  {
   "cell_type": "code",
   "execution_count": 5,
   "metadata": {},
   "outputs": [],
   "source": [
    "# df['check_']=df['checkout_price']*-0.72895433"
   ]
  },
  {
   "cell_type": "code",
   "execution_count": 6,
   "metadata": {},
   "outputs": [
    {
     "data": {
      "text/plain": [
       "num_orders               1.000000\n",
       "homepage_featured        0.294490\n",
       "check_                   0.282108\n",
       "emailer_for_promotion    0.277147\n",
       "op_area                  0.176976\n",
       "diff                     0.152950\n",
       "city_code                0.041596\n",
       "region_code              0.029744\n",
       "meal_id                  0.010597\n",
       "id                       0.000702\n",
       "week                    -0.017210\n",
       "center_type             -0.038199\n",
       "center_id               -0.053035\n",
       "cuisine                 -0.177768\n",
       "base_price              -0.222306\n",
       "category                -0.266118\n",
       "checkout_price          -0.282108\n",
       "Name: num_orders, dtype: float64"
      ]
     },
     "execution_count": 6,
     "metadata": {},
     "output_type": "execute_result"
    }
   ],
   "source": [
    "df.corr()['num_orders'].sort_values(ascending=False) #As we can see the check is correlated with num_orders"
   ]
  },
  {
   "cell_type": "code",
   "execution_count": 37,
   "metadata": {},
   "outputs": [
    {
     "name": "stderr",
     "output_type": "stream",
     "text": [
      "c:\\users\\anurag\\appdata\\local\\programs\\python\\python35-32\\lib\\site-packages\\sklearn\\ensemble\\forest.py:245: FutureWarning: The default value of n_estimators will change from 10 in version 0.20 to 100 in 0.22.\n",
      "  \"10 in version 0.20 to 100 in 0.22.\", FutureWarning)\n"
     ]
    },
    {
     "name": "stdout",
     "output_type": "stream",
     "text": [
      "294.49874379224394\n",
      "0.4296273805645102\n"
     ]
    }
   ],
   "source": [
    "from sklearn.ensemble import RandomForestRegressor\n",
    "model=RandomForestRegressor()\n",
    "x=df[['homepage_featured','emailer_for_promotion','diff','check_']]\n",
    "y=df['num_orders']\n",
    "from sklearn.model_selection import train_test_split\n",
    "x_train,x_test,y_train,y_test=train_test_split(x,y)\n",
    "model.fit(x_train,y_train)\n",
    "y_pred=model.predict(x_test) \n",
    "import sklearn.metrics as metrics\n",
    "import numpy as np\n",
    "print(np.sqrt(metrics.mean_squared_error(y_pred,y_test)))\n",
    "print(metrics.r2_score(y_test,y_pred))\n",
    "\n",
    "# previous result:-\n",
    "#     356.2932652976024\n",
    "#     0.17077936586634468"
   ]
  },
  {
   "cell_type": "markdown",
   "metadata": {},
   "source": [
    "# PCA"
   ]
  },
  {
   "cell_type": "code",
   "execution_count": 58,
   "metadata": {},
   "outputs": [
    {
     "name": "stdout",
     "output_type": "stream",
     "text": [
      "Index(['id', 'week', 'center_id', 'meal_id', 'checkout_price', 'base_price',\n",
      "       'emailer_for_promotion', 'homepage_featured', 'category', 'cuisine',\n",
      "       'city_code', 'region_code', 'center_type', 'op_area', 'diff', 'check_'],\n",
      "      dtype='object')\n"
     ]
    }
   ],
   "source": [
    "target=df['num_orders']  # dependent and independent columns ko alag alag kra\n",
    "df.drop('num_orders',axis=1,inplace=True)\n",
    "print(df.columns)"
   ]
  },
  {
   "cell_type": "code",
   "execution_count": 59,
   "metadata": {},
   "outputs": [],
   "source": [
    "from sklearn.preprocessing import StandardScaler\n",
    "stand=StandardScaler()\n",
    "stand.fit(df)\n",
    "stand_data=stand.transform(df)"
   ]
  },
  {
   "cell_type": "code",
   "execution_count": 60,
   "metadata": {},
   "outputs": [
    {
     "data": {
      "text/plain": [
       "Text(0, 0.5, 'Variance (%)')"
      ]
     },
     "execution_count": 60,
     "metadata": {},
     "output_type": "execute_result"
    },
    {
     "data": {
      "image/png": "[encoded data removed]",
      "text/plain": [
       "<Figure size 432x288 with 1 Axes>"
      ]
     },
     "metadata": {
      "needs_background": "light"
     },
     "output_type": "display_data"
    }
   ],
   "source": [
    "from sklearn.decomposition import PCA\n",
    "pca=PCA()\n",
    "pca.fit(stand_data)\n",
    "plt.plot(np.cumsum(pca.explained_variance_ratio_))\n",
    "plt.xlabel('Number of Components')\n",
    "plt.ylabel('Variance (%)')"
   ]
  },
  {
   "cell_type": "markdown",
   "metadata": {},
   "source": [
    "# pca(n_componets=12)"
   ]
  },
  {
   "cell_type": "code",
   "execution_count": 61,
   "metadata": {},
   "outputs": [
    {
     "data": {
      "text/plain": [
       "PCA(copy=True, iterated_power='auto', n_components=12, random_state=None,\n",
       "    svd_solver='auto', tol=0.0, whiten=False)"
      ]
     },
     "execution_count": 61,
     "metadata": {},
     "output_type": "execute_result"
    }
   ],
   "source": [
    "pca=PCA(n_components=12)\n",
    "pca.fit(stand_data)"
   ]
  },
  {
   "cell_type": "code",
   "execution_count": 62,
   "metadata": {},
   "outputs": [
    {
     "data": {
      "text/plain": [
       "(456548, 12)"
      ]
     },
     "execution_count": 62,
     "metadata": {},
     "output_type": "execute_result"
    }
   ],
   "source": [
    "pca_data=pca.transform(stand_data)\n",
    "pca_data.shape"
   ]
  },
  {
   "cell_type": "code",
   "execution_count": 63,
   "metadata": {},
   "outputs": [
    {
     "data": {
      "text/plain": [
       "<matplotlib.collections.PathCollection at 0xe115b90>"
      ]
     },
     "execution_count": 63,
     "metadata": {},
     "output_type": "execute_result"
    },
    {
     "data": {
      "image/png": "[encoded data removed]",
      "text/plain": [
       "<Figure size 432x288 with 1 Axes>"
      ]
     },
     "metadata": {
      "needs_background": "light"
     },
     "output_type": "display_data"
    }
   ],
   "source": [
    "plt.scatter(pca_data[:2000,0],pca_data[:2000,1]) # data overfit hoga because 2000 rows me hi itna random distribution h"
   ]
  },
  {
   "cell_type": "markdown",
   "metadata": {},
   "source": [
    "# after pca fit componets in model"
   ]
  },
  {
   "cell_type": "code",
   "execution_count": 64,
   "metadata": {},
   "outputs": [
    {
     "name": "stdout",
     "output_type": "stream",
     "text": [
      "356.63183536713245\n",
      "-2.4010987675133886\n"
     ]
    }
   ],
   "source": [
    "x=pca_data\n",
    "y=target.values\n",
    "x_train,x_test,y_train,y_test=train_test_split(x,y)\n",
    "model.fit(x_train,y_train)\n",
    "y_pred=model.predict(x_test)\n",
    "print(np.sqrt(metrics.mean_squared_error(y_pred,y_test)))\n",
    "print(metrics.r2_score(y_pred,y_test))"
   ]
  },
  {
   "cell_type": "markdown",
   "metadata": {},
   "source": [
    "# but pca=2,4 pr bi check kr le uspr kaee barr accuray badd jati h"
   ]
  },
  {
   "cell_type": "code",
   "execution_count": 69,
   "metadata": {},
   "outputs": [
    {
     "name": "stdout",
     "output_type": "stream",
     "text": [
      "349.40237175947016\n",
      "-2.560470801217829\n"
     ]
    }
   ],
   "source": [
    "pca=PCA(n_components=5)\n",
    "pca.fit(stand_data)\n",
    "pca_data=pca.transform(stand_data)\n",
    "x=pca_data\n",
    "y=target.values\n",
    "x_train,x_test,y_train,y_test=train_test_split(x,y)\n",
    "model.fit(x_train,y_train)\n",
    "y_pred=model.predict(x_test)\n",
    "print(np.sqrt(metrics.mean_squared_error(y_pred,y_test)))\n",
    "print(metrics.r2_score(y_pred,y_test))"
   ]
  },
  {
   "cell_type": "code",
   "execution_count": null,
   "metadata": {},
   "outputs": [],
   "source": [
    "# After finds pca the score goes down..........................??????????????????????????????????????"
   ]
  },
  {
   "cell_type": "markdown",
   "metadata": {},
   "source": [
    "# data overfit hoga because 2000 rows me hi itna random distribution h:--\n",
    "#     then we use ridge/lassco/elastic net and find which one is when we used(koi condition)and which is better\n",
    "#     then multivariable linear regression\n",
    "#     then RandomforestRegressor/xgboost\n",
    "#     then......."
   ]
  },
  {
   "cell_type": "code",
   "execution_count": null,
   "metadata": {},
   "outputs": [],
   "source": [
    "## Model selection"
   ]
  },
  {
   "cell_type": "code",
   "execution_count": 2,
   "metadata": {},
   "outputs": [
    {
     "data": {
      "text/html": [
       "<div>\n",
       "<style scoped>\n",
       "    .dataframe tbody tr th:only-of-type {\n",
       "        vertical-align: middle;\n",
       "    }\n",
       "\n",
       "    .dataframe tbody tr th {\n",
       "        vertical-align: top;\n",
       "    }\n",
       "\n",
       "    .dataframe thead th {\n",
       "        text-align: right;\n",
       "    }\n",
       "</style>\n",
       "<table border=\"1\" class=\"dataframe\">\n",
       "  <thead>\n",
       "    <tr style=\"text-align: right;\">\n",
       "      <th></th>\n",
       "      <th>id</th>\n",
       "      <th>week</th>\n",
       "      <th>center_id</th>\n",
       "      <th>meal_id</th>\n",
       "      <th>checkout_price</th>\n",
       "      <th>base_price</th>\n",
       "      <th>emailer_for_promotion</th>\n",
       "      <th>homepage_featured</th>\n",
       "      <th>num_orders</th>\n",
       "      <th>category</th>\n",
       "      <th>cuisine</th>\n",
       "      <th>city_code</th>\n",
       "      <th>region_code</th>\n",
       "      <th>center_type</th>\n",
       "      <th>op_area</th>\n",
       "      <th>diff</th>\n",
       "    </tr>\n",
       "  </thead>\n",
       "  <tbody>\n",
       "    <tr>\n",
       "      <td>0</td>\n",
       "      <td>1379560</td>\n",
       "      <td>1</td>\n",
       "      <td>55</td>\n",
       "      <td>1885</td>\n",
       "      <td>136.83</td>\n",
       "      <td>152.29</td>\n",
       "      <td>0</td>\n",
       "      <td>0</td>\n",
       "      <td>177</td>\n",
       "      <td>1</td>\n",
       "      <td>2</td>\n",
       "      <td>647</td>\n",
       "      <td>56</td>\n",
       "      <td>3</td>\n",
       "      <td>2.0</td>\n",
       "      <td>15.46</td>\n",
       "    </tr>\n",
       "    <tr>\n",
       "      <td>1</td>\n",
       "      <td>1018704</td>\n",
       "      <td>2</td>\n",
       "      <td>55</td>\n",
       "      <td>1885</td>\n",
       "      <td>135.83</td>\n",
       "      <td>152.29</td>\n",
       "      <td>0</td>\n",
       "      <td>0</td>\n",
       "      <td>323</td>\n",
       "      <td>1</td>\n",
       "      <td>2</td>\n",
       "      <td>647</td>\n",
       "      <td>56</td>\n",
       "      <td>3</td>\n",
       "      <td>2.0</td>\n",
       "      <td>16.46</td>\n",
       "    </tr>\n",
       "    <tr>\n",
       "      <td>2</td>\n",
       "      <td>1196273</td>\n",
       "      <td>3</td>\n",
       "      <td>55</td>\n",
       "      <td>1885</td>\n",
       "      <td>132.92</td>\n",
       "      <td>133.92</td>\n",
       "      <td>0</td>\n",
       "      <td>0</td>\n",
       "      <td>96</td>\n",
       "      <td>1</td>\n",
       "      <td>2</td>\n",
       "      <td>647</td>\n",
       "      <td>56</td>\n",
       "      <td>3</td>\n",
       "      <td>2.0</td>\n",
       "      <td>1.00</td>\n",
       "    </tr>\n",
       "    <tr>\n",
       "      <td>3</td>\n",
       "      <td>1116527</td>\n",
       "      <td>4</td>\n",
       "      <td>55</td>\n",
       "      <td>1885</td>\n",
       "      <td>135.86</td>\n",
       "      <td>134.86</td>\n",
       "      <td>0</td>\n",
       "      <td>0</td>\n",
       "      <td>163</td>\n",
       "      <td>1</td>\n",
       "      <td>2</td>\n",
       "      <td>647</td>\n",
       "      <td>56</td>\n",
       "      <td>3</td>\n",
       "      <td>2.0</td>\n",
       "      <td>-1.00</td>\n",
       "    </tr>\n",
       "    <tr>\n",
       "      <td>4</td>\n",
       "      <td>1343872</td>\n",
       "      <td>5</td>\n",
       "      <td>55</td>\n",
       "      <td>1885</td>\n",
       "      <td>146.50</td>\n",
       "      <td>147.50</td>\n",
       "      <td>0</td>\n",
       "      <td>0</td>\n",
       "      <td>215</td>\n",
       "      <td>1</td>\n",
       "      <td>2</td>\n",
       "      <td>647</td>\n",
       "      <td>56</td>\n",
       "      <td>3</td>\n",
       "      <td>2.0</td>\n",
       "      <td>1.00</td>\n",
       "    </tr>\n",
       "  </tbody>\n",
       "</table>\n",
       "</div>"
      ],
      "text/plain": [
       "        id  week  center_id  meal_id  checkout_price  base_price  \\\n",
       "0  1379560     1         55     1885          136.83      152.29   \n",
       "1  1018704     2         55     1885          135.83      152.29   \n",
       "2  1196273     3         55     1885          132.92      133.92   \n",
       "3  1116527     4         55     1885          135.86      134.86   \n",
       "4  1343872     5         55     1885          146.50      147.50   \n",
       "\n",
       "   emailer_for_promotion  homepage_featured  num_orders  category  cuisine  \\\n",
       "0                      0                  0         177         1        2   \n",
       "1                      0                  0         323         1        2   \n",
       "2                      0                  0          96         1        2   \n",
       "3                      0                  0         163         1        2   \n",
       "4                      0                  0         215         1        2   \n",
       "\n",
       "   city_code  region_code  center_type  op_area   diff  \n",
       "0        647           56            3      2.0  15.46  \n",
       "1        647           56            3      2.0  16.46  \n",
       "2        647           56            3      2.0   1.00  \n",
       "3        647           56            3      2.0  -1.00  \n",
       "4        647           56            3      2.0   1.00  "
      ]
     },
     "execution_count": 2,
     "metadata": {},
     "output_type": "execute_result"
    }
   ],
   "source": [
    "df.head()"
   ]
  },
  {
   "cell_type": "code",
   "execution_count": 8,
   "metadata": {},
   "outputs": [
    {
     "data": {
      "text/plain": [
       "homepage_featured        0.294490\n",
       "check_                   0.282108\n",
       "emailer_for_promotion    0.277147\n",
       "op_area                  0.176976\n",
       "diff                     0.152950\n",
       "city_code                0.041596\n",
       "region_code              0.029744\n",
       "Name: num_orders, dtype: float64"
      ]
     },
     "execution_count": 8,
     "metadata": {},
     "output_type": "execute_result"
    }
   ],
   "source": [
    "df.corr()['num_orders'].sort_values(ascending=False)[1:8]"
   ]
  },
  {
   "cell_type": "code",
   "execution_count": 27,
   "metadata": {},
   "outputs": [
    {
     "name": "stdout",
     "output_type": "stream",
     "text": [
      "0.22536541648237862\n",
      "0.2206398541336887\n",
      "355.83963546053195\n",
      "0.2206398541336887\n"
     ]
    }
   ],
   "source": [
    "model=LinearRegression(fit_intercept=True)\n",
    "x=df[['homepage_featured','check_','emailer_for_promotion','op_area','diff']]\n",
    "y=df[['num_orders']]\n",
    "x_train,x_test,y_train,y_test=train_test_split(x,y,test_size=0.2)\n",
    "model.fit(x_train,y_train)\n",
    "y_pred=model.predict(x_test) \n",
    "print(model.score(x_train,y_train))\n",
    "print(model.score(x_test,y_test))\n",
    "\n",
    "print(np.sqrt(metrics.mean_squared_error(y_pred,y_test)))\n",
    "print(metrics.r2_score(y_test,y_pred))"
   ]
  },
  {
   "cell_type": "code",
   "execution_count": 28,
   "metadata": {},
   "outputs": [
    {
     "name": "stdout",
     "output_type": "stream",
     "text": [
      "[0.22888759 0.23045994 0.21635946 0.23360597 0.22091835 0.22455019\n",
      " 0.22932923 0.21967366]\n",
      "0.2254730485867757\n"
     ]
    }
   ],
   "source": [
    "from sklearn.model_selection import cross_val_score\n",
    "print(cross_val_score(model,x_train,y_train,cv=8))\n",
    "print(cross_val_score(model,x_train,y_train,cv=8).mean())"
   ]
  },
  {
   "cell_type": "markdown",
   "metadata": {},
   "source": [
    "# overfitting is not here so focus on improving the score"
   ]
  },
  {
   "cell_type": "code",
   "execution_count": 29,
   "metadata": {},
   "outputs": [
    {
     "name": "stdout",
     "output_type": "stream",
     "text": [
      "0.22536540453554543\n",
      "0.22064101469236463\n",
      "355.8393705169547\n",
      "0.22064101469236463\n"
     ]
    }
   ],
   "source": [
    "from sklearn.linear_model import RidgeCV\n",
    "model=RidgeCV()\n",
    "model.fit(x_train,y_train)\n",
    "y_pred=model.predict(x_test) \n",
    "print(model.score(x_train,y_train))\n",
    "print(model.score(x_test,y_test))\n",
    "\n",
    "print(np.sqrt(metrics.mean_squared_error(y_pred,y_test)))\n",
    "print(metrics.r2_score(y_test,y_pred))"
   ]
  },
  {
   "cell_type": "code",
   "execution_count": 30,
   "metadata": {},
   "outputs": [
    {
     "data": {
      "text/plain": [
       "10.0"
      ]
     },
     "execution_count": 30,
     "metadata": {},
     "output_type": "execute_result"
    }
   ],
   "source": [
    "model.alpha_"
   ]
  },
  {
   "cell_type": "code",
   "execution_count": 204,
   "metadata": {},
   "outputs": [
    {
     "name": "stdout",
     "output_type": "stream",
     "text": [
      "0.6199030993816887\n",
      "0.6042001546791866\n",
      "0.6042001546791866\n"
     ]
    }
   ],
   "source": [
    "from sklearn.tree import DecisionTreeRegressor\n",
    "model=DecisionTreeRegressor(random_state=42,max_depth=7)\n",
    "x=df[['homepage_featured','check_','emailer_for_promotion','op_area'\n",
    "     ,'category','cuisine','week']]\n",
    "y=df[['num_orders']]\n",
    "x_train,x_test,y_train,y_test=train_test_split(x,y,test_size=0.2)\n",
    "model.fit(x_train,y_train)\n",
    "y_pred=model.predict(x_test) \n",
    "print(model.score(x_train,y_train))\n",
    "print(model.score(x_test,y_test))\n",
    "print(metrics.r2_score(y_test,y_pred))"
   ]
  },
  {
   "cell_type": "code",
   "execution_count": 182,
   "metadata": {},
   "outputs": [
    {
     "data": {
      "text/plain": [
       "array([0.1698498 , 0.16460838, 0.07845292, 0.12876651, 0.32425015,\n",
       "       0.11036826, 0.02370397])"
      ]
     },
     "execution_count": 182,
     "metadata": {},
     "output_type": "execute_result"
    }
   ],
   "source": [
    "model.feature_importances_"
   ]
  },
  {
   "cell_type": "code",
   "execution_count": 203,
   "metadata": {},
   "outputs": [],
   "source": [
    "# For visulize the regression tree:------->>>>>>>>\n",
    "\n",
    "# import pydotplus\n",
    "# from IPython.display import Image\n",
    "# dot_data = tree.export_graphviz(model, out_file=None)\n",
    "\n",
    "# # Draw graph\n",
    "# graph = pydotplus.graph_from_dot_data(dot_data)  \n",
    "\n",
    "# # Show graph\n",
    "# Image(graph.create_png())"
   ]
  },
  {
   "cell_type": "code",
   "execution_count": 6,
   "metadata": {},
   "outputs": [
    {
     "ename": "TypeError",
     "evalue": "__init__() got an unexpected keyword argument 'n_estimators'",
     "output_type": "error",
     "traceback": [
      "\u001b[1;31m---------------------------------------------------------------------------\u001b[0m",
      "\u001b[1;31mTypeError\u001b[0m                                 Traceback (most recent call last)",
      "\u001b[1;32m<ipython-input-6-1a81e61e407c>\u001b[0m in \u001b[0;36m<module>\u001b[1;34m\u001b[0m\n\u001b[0;32m      1\u001b[0m \u001b[1;32mfrom\u001b[0m \u001b[0msklearn\u001b[0m\u001b[1;33m.\u001b[0m\u001b[0mtree\u001b[0m \u001b[1;32mimport\u001b[0m \u001b[0mDecisionTreeRegressor\u001b[0m\u001b[1;33m\u001b[0m\u001b[0m\n\u001b[1;32m----> 2\u001b[1;33m \u001b[0mmodel\u001b[0m\u001b[1;33m=\u001b[0m\u001b[0mDecisionTreeRegressor\u001b[0m\u001b[1;33m(\u001b[0m\u001b[0mrandom_state\u001b[0m\u001b[1;33m=\u001b[0m\u001b[1;36m42\u001b[0m\u001b[1;33m,\u001b[0m\u001b[0mmax_depth\u001b[0m\u001b[1;33m=\u001b[0m\u001b[1;36m15\u001b[0m\u001b[1;33m,\u001b[0m\u001b[0mmin_impurity_decrease\u001b[0m\u001b[1;33m=\u001b[0m\u001b[1;36m1\u001b[0m\u001b[1;33m,\u001b[0m\u001b[0mn_estimators\u001b[0m\u001b[1;33m=\u001b[0m\u001b[1;36m50\u001b[0m\u001b[1;33m)\u001b[0m\u001b[1;33m\u001b[0m\u001b[0m\n\u001b[0m\u001b[0;32m      3\u001b[0m x=df[['homepage_featured','center_type','emailer_for_promotion','op_area'\n\u001b[0;32m      4\u001b[0m      ,'category','cuisine','region_code','category']]\n\u001b[0;32m      5\u001b[0m \u001b[0my\u001b[0m\u001b[1;33m=\u001b[0m\u001b[0mdf\u001b[0m\u001b[1;33m[\u001b[0m\u001b[1;33m[\u001b[0m\u001b[1;34m'num_orders'\u001b[0m\u001b[1;33m]\u001b[0m\u001b[1;33m]\u001b[0m\u001b[1;33m\u001b[0m\u001b[0m\n",
      "\u001b[1;31mTypeError\u001b[0m: __init__() got an unexpected keyword argument 'n_estimators'"
     ]
    }
   ],
   "source": [
    "from sklearn.tree import DecisionTreeRegressor\n",
    "model=DecisionTreeRegressor(random_state=42,max_depth=15,min_impurity_decrease=1)\n",
    "x=df[['homepage_featured','center_type','emailer_for_promotion','op_area'\n",
    "     ,'category','cuisine','region_code','category']]\n",
    "y=df[['num_orders']]\n",
    "x_train,x_test,y_train,y_test=train_test_split(x,y,test_size=0.2,random_state=42)\n",
    "model.fit(x_train,y_train)\n",
    "y_pred=model.predict(x_test) \n",
    "print(model.score(x_train,y_train))\n",
    "print(model.score(x_test,y_test))\n",
    "print(metrics.r2_score(y_test,y_pred))"
   ]
  },
  {
   "cell_type": "code",
   "execution_count": null,
   "metadata": {},
   "outputs": [],
   "source": [
    "\n",
    "# emailer_for_promotion 0.07456675051458803\n",
    "# homepage_featured 0.09727528878171893\n",
    "# center_type 0.6660258208158177\n",
    "# op_area 1.1917766269997325\n",
    "# cuisine 1.2335880177095118\n",
    "# category 15.43030014182472\n",
    "# region_code 311.214979829968\n",
    "# week 1724.3182247648633\n",
    "# center_id 2113.7002263559316\n",
    "# diff 2351.8430427101493\n",
    "# city_code 4381.889495073495\n",
    "# check_ 12429.117367892566\n",
    "# checkout_price 23390.507731939237\n",
    "# base_price 25829.54843370355\n",
    "\n",
    "# make descion tree on above feature based"
   ]
  }
 ],
 "metadata": {
  "kernelspec": {
   "display_name": "Python 3",
   "language": "python",
   "name": "python3"
  },
  "language_info": {
   "codemirror_mode": {
    "name": "ipython",
    "version": 3
   },
   "file_extension": ".py",
   "mimetype": "text/x-python",
   "name": "python",
   "nbconvert_exporter": "python",
   "pygments_lexer": "ipython3",
   "version": "3.5.3"
  }
 },
 "nbformat": 4,
 "nbformat_minor": 2
}
