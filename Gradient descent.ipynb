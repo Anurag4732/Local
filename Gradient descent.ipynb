{
 "cells": [
  {
   "cell_type": "code",
   "execution_count": 1,
   "metadata": {},
   "outputs": [
    {
     "data": {
      "text/html": [
       "<div>\n",
       "<style scoped>\n",
       "    .dataframe tbody tr th:only-of-type {\n",
       "        vertical-align: middle;\n",
       "    }\n",
       "\n",
       "    .dataframe tbody tr th {\n",
       "        vertical-align: top;\n",
       "    }\n",
       "\n",
       "    .dataframe thead th {\n",
       "        text-align: right;\n",
       "    }\n",
       "</style>\n",
       "<table border=\"1\" class=\"dataframe\">\n",
       "  <thead>\n",
       "    <tr style=\"text-align: right;\">\n",
       "      <th></th>\n",
       "      <th>x1</th>\n",
       "      <th>x2</th>\n",
       "      <th>y</th>\n",
       "    </tr>\n",
       "  </thead>\n",
       "  <tbody>\n",
       "    <tr>\n",
       "      <td>0</td>\n",
       "      <td>3</td>\n",
       "      <td>2</td>\n",
       "      <td>8</td>\n",
       "    </tr>\n",
       "  </tbody>\n",
       "</table>\n",
       "</div>"
      ],
      "text/plain": [
       "   x1  x2  y\n",
       "0   3   2  8"
      ]
     },
     "execution_count": 1,
     "metadata": {},
     "output_type": "execute_result"
    }
   ],
   "source": [
    "import pandas as pd\n",
    "import numpy as np\n",
    "import matplotlib.pyplot as plt\n",
    "from sklearn.tree import DecisionTreeRegressor\n",
    "from sklearn.linear_model import LinearRegression\n",
    "np.random.rand()\n",
    "df = pd.DataFrame({'x1': [3] , 'x2': [2], 'y': [8]})\n",
    "df.head()"
   ]
  },
  {
   "cell_type": "code",
   "execution_count": 2,
   "metadata": {},
   "outputs": [],
   "source": [
    "## Initilize the values:-\n",
    "m1, m2, c= 0, 0, 0"
   ]
  },
  {
   "cell_type": "code",
   "execution_count": 3,
   "metadata": {},
   "outputs": [
    {
     "data": {
      "text/plain": [
       "0    0\n",
       "dtype: int64"
      ]
     },
     "execution_count": 3,
     "metadata": {},
     "output_type": "execute_result"
    }
   ],
   "source": [
    "y_pred = m1*df['x1'] + m2*df['x2'] + c\n",
    "y_pred"
   ]
  },
  {
   "cell_type": "code",
   "execution_count": 4,
   "metadata": {},
   "outputs": [],
   "source": [
    "def update_weights(m1, m2, c, X1,X2, Y, learning_rate, y_pred):\n",
    "    m1_deriv, m2_deriv, c_deriv = 0 , 0, 0 \n",
    "    N = len(X1)\n",
    "    for i in range(N):\n",
    "        # loss_function = 1/N sum(1->N)(y_real - pred)\n",
    "        # Calculate partial derivatives\n",
    "        # -2x(y - (mx + b))\n",
    "        loss = df['y'] - y_pred\n",
    "        m1_deriv += -2*X1[i] * (Y[i] - (m1*X1[i]+m2*X2[i] + c))\n",
    "        m2_deriv += -2*X2[i] * (Y[i] - (m1*X1[i]+m2*X2[i] + c))\n",
    "        #print(m1_deriv, m2_deriv)\n",
    "        \n",
    "        # -2(y - (mx + b))\n",
    "        c_deriv += -2*(Y[i] - (m1*X1[i]+m2*X2[i] + c))\n",
    "       \n",
    "\n",
    "    # We subtract because the derivatives point in direction of steepest ascent\n",
    "    m1 -= (m1_deriv / float(N)) * learning_rate\n",
    "    m2 -= (m2_deriv / float(N)) * learning_rate\n",
    "    c -= (c_deriv / float(N)) * learning_rate\n",
    "\n",
    "    return m1, m2, c, y_pred, loss"
   ]
  },
  {
   "cell_type": "code",
   "execution_count": 8,
   "metadata": {},
   "outputs": [],
   "source": [
    "m1_list, m2_list, c_list = [], [], []\n",
    "for i in range(0,200):\n",
    "    m1, m2, c, y_pred, loss = update_weights(m1 ,m2, c, df['x1'], df['x2'], df['y'],0.05, y_pred)\n",
    "    m1_list.append(m1)\n",
    "    m2_list.append(m2)\n",
    "    c_list.append(c)\n",
    "    m1, m2, c = m1, m2, c\n"
   ]
  },
  {
   "cell_type": "code",
   "execution_count": 9,
   "metadata": {},
   "outputs": [
    {
     "data": {
      "text/plain": [
       "[4.2151560634070814e+222,\n",
       " -1.6860624253628326e+222,\n",
       " 6.744249701451343e+221,\n",
       " -2.6976998805805282e+221,\n",
       " 1.079079952232222e+221,\n",
       " -4.3163198089287807e+220,\n",
       " 1.7265279235716212e+220,\n",
       " -6.906111694285399e+219,\n",
       " 2.7624446777152463e+219,\n",
       " -1.1049778710850131e+219,\n",
       " 4.419911484350912e+218,\n",
       " -1.7679645937295066e+218,\n",
       " 7.071858375026609e+217,\n",
       " -2.8287433499020636e+217,\n",
       " 1.1314973400694057e+217,\n",
       " -4.5259893591918233e+216,\n",
       " 1.8103957447625286e+216,\n",
       " -7.241582968192124e+215,\n",
       " 2.8966331981348403e+215,\n",
       " -1.158653268395945e+215,\n",
       " 4.634613182163691e+214,\n",
       " -1.8538451642855664e+214,\n",
       " 7.415381742941367e+213,\n",
       " -2.966151611377444e+213,\n",
       " 1.1864617303500808e+213,\n",
       " -4.745836063409288e+212,\n",
       " 1.8983452833547493e+212,\n",
       " -7.593272553508658e+211,\n",
       " 3.0374176013138007e+211,\n",
       " -1.2148584606151832e+211,\n",
       " 4.8605196415641094e+210,\n",
       " -1.9431220575222675e+210,\n",
       " 7.78334622112284e+209,\n",
       " -3.1024804974153683e+209,\n",
       " 1.2518501899999153e+209,\n",
       " -4.8988208496619835e+208,\n",
       " 2.0681082502024703e+208,\n",
       " -7.186633897433116e+207,\n",
       " 3.960452662350016e+207,\n",
       " -4.983819615632378e+206,\n",
       " 1.2851518880020636e+207,\n",
       " 5.717383481759429e+206,\n",
       " 8.571037641063913e+206,\n",
       " 7.429575977342119e+206,\n",
       " 7.886160642830836e+206,\n",
       " 7.703526776635349e+206,\n",
       " 7.776580323113544e+206,\n",
       " 7.747358904522265e+206,\n",
       " 7.759047471958777e+206,\n",
       " 7.754372044984173e+206,\n",
       " 7.756242215774015e+206,\n",
       " 7.755494147458078e+206,\n",
       " 7.755793374784453e+206,\n",
       " 7.755673683853904e+206,\n",
       " 7.755721560226122e+206,\n",
       " 7.755702409677235e+206,\n",
       " 7.75571006989679e+206,\n",
       " 7.755707005808967e+206,\n",
       " 7.755708231444097e+206,\n",
       " 7.755707741190045e+206,\n",
       " 7.755707937291667e+206,\n",
       " 7.755707858851017e+206,\n",
       " 7.755707890227276e+206,\n",
       " 7.755707877676773e+206,\n",
       " 7.755707882696975e+206,\n",
       " 7.755707880688894e+206,\n",
       " 7.755707881492126e+206,\n",
       " 7.755707881170834e+206,\n",
       " 7.75570788129935e+206,\n",
       " 7.755707881247944e+206,\n",
       " 7.755707881268508e+206,\n",
       " 7.755707881260281e+206,\n",
       " 7.755707881263572e+206,\n",
       " 7.755707881262256e+206,\n",
       " 7.755707881262782e+206,\n",
       " 7.755707881262571e+206,\n",
       " 7.755707881262655e+206,\n",
       " 7.755707881262621e+206,\n",
       " 7.755707881262635e+206,\n",
       " 7.75570788126263e+206,\n",
       " 7.755707881262631e+206,\n",
       " 7.755707881262631e+206,\n",
       " 7.755707881262631e+206,\n",
       " 7.755707881262631e+206,\n",
       " 7.755707881262631e+206,\n",
       " 7.755707881262631e+206,\n",
       " 7.755707881262631e+206,\n",
       " 7.755707881262631e+206,\n",
       " 7.755707881262631e+206,\n",
       " 7.755707881262631e+206,\n",
       " 7.755707881262631e+206,\n",
       " 7.755707881262631e+206,\n",
       " 7.755707881262631e+206,\n",
       " 7.755707881262631e+206,\n",
       " 7.755707881262631e+206,\n",
       " 7.755707881262631e+206,\n",
       " 7.755707881262631e+206,\n",
       " 7.755707881262631e+206,\n",
       " 7.755707881262631e+206,\n",
       " 7.755707881262631e+206,\n",
       " 7.755707881262631e+206,\n",
       " 7.755707881262631e+206,\n",
       " 7.755707881262631e+206,\n",
       " 7.755707881262631e+206,\n",
       " 7.755707881262631e+206,\n",
       " 7.755707881262631e+206,\n",
       " 7.755707881262631e+206,\n",
       " 7.755707881262631e+206,\n",
       " 7.755707881262631e+206,\n",
       " 7.755707881262631e+206,\n",
       " 7.755707881262631e+206,\n",
       " 7.755707881262631e+206,\n",
       " 7.755707881262631e+206,\n",
       " 7.755707881262631e+206,\n",
       " 7.755707881262631e+206,\n",
       " 7.755707881262631e+206,\n",
       " 7.755707881262631e+206,\n",
       " 7.755707881262631e+206,\n",
       " 7.755707881262631e+206,\n",
       " 7.755707881262631e+206,\n",
       " 7.755707881262631e+206,\n",
       " 7.755707881262631e+206,\n",
       " 7.755707881262631e+206,\n",
       " 7.755707881262631e+206,\n",
       " 7.755707881262631e+206,\n",
       " 7.755707881262631e+206,\n",
       " 7.755707881262631e+206,\n",
       " 7.755707881262631e+206,\n",
       " 7.755707881262631e+206,\n",
       " 7.755707881262631e+206,\n",
       " 7.755707881262631e+206,\n",
       " 7.755707881262631e+206,\n",
       " 7.755707881262631e+206,\n",
       " 7.755707881262631e+206,\n",
       " 7.755707881262631e+206,\n",
       " 7.755707881262631e+206,\n",
       " 7.755707881262631e+206,\n",
       " 7.755707881262631e+206,\n",
       " 7.755707881262631e+206,\n",
       " 7.755707881262631e+206,\n",
       " 7.755707881262631e+206,\n",
       " 7.755707881262631e+206,\n",
       " 7.755707881262631e+206,\n",
       " 7.755707881262631e+206,\n",
       " 7.755707881262631e+206,\n",
       " 7.755707881262631e+206,\n",
       " 7.755707881262631e+206,\n",
       " 7.755707881262631e+206,\n",
       " 7.755707881262631e+206,\n",
       " 7.755707881262631e+206,\n",
       " 7.755707881262631e+206,\n",
       " 7.755707881262631e+206,\n",
       " 7.755707881262631e+206,\n",
       " 7.755707881262631e+206,\n",
       " 7.755707881262631e+206,\n",
       " 7.755707881262631e+206,\n",
       " 7.755707881262631e+206,\n",
       " 7.755707881262631e+206,\n",
       " 7.755707881262631e+206,\n",
       " 7.755707881262631e+206,\n",
       " 7.755707881262631e+206,\n",
       " 7.755707881262631e+206,\n",
       " 7.755707881262631e+206,\n",
       " 7.755707881262631e+206,\n",
       " 7.755707881262631e+206,\n",
       " 7.755707881262631e+206,\n",
       " 7.755707881262631e+206,\n",
       " 7.755707881262631e+206,\n",
       " 7.755707881262631e+206,\n",
       " 7.755707881262631e+206,\n",
       " 7.755707881262631e+206,\n",
       " 7.755707881262631e+206,\n",
       " 7.755707881262631e+206,\n",
       " 7.755707881262631e+206,\n",
       " 7.755707881262631e+206,\n",
       " 7.755707881262631e+206,\n",
       " 7.755707881262631e+206,\n",
       " 7.755707881262631e+206,\n",
       " 7.755707881262631e+206,\n",
       " 7.755707881262631e+206,\n",
       " 7.755707881262631e+206,\n",
       " 7.755707881262631e+206,\n",
       " 7.755707881262631e+206,\n",
       " 7.755707881262631e+206,\n",
       " 7.755707881262631e+206,\n",
       " 7.755707881262631e+206,\n",
       " 7.755707881262631e+206,\n",
       " 7.755707881262631e+206,\n",
       " 7.755707881262631e+206,\n",
       " 7.755707881262631e+206,\n",
       " 7.755707881262631e+206,\n",
       " 7.755707881262631e+206,\n",
       " 7.755707881262631e+206,\n",
       " 7.755707881262631e+206,\n",
       " 7.755707881262631e+206,\n",
       " 7.755707881262631e+206,\n",
       " 7.755707881262631e+206,\n",
       " 7.755707881262631e+206,\n",
       " 7.755707881262631e+206,\n",
       " 7.755707881262631e+206]"
      ]
     },
     "execution_count": 9,
     "metadata": {},
     "output_type": "execute_result"
    }
   ],
   "source": [
    "m1_list"
   ]
  },
  {
   "cell_type": "code",
   "execution_count": 10,
   "metadata": {},
   "outputs": [
    {
     "data": {
      "text/plain": [
       "<mpl_toolkits.mplot3d.art3d.Path3DCollection at 0xd5434d0>"
      ]
     },
     "execution_count": 10,
     "metadata": {},
     "output_type": "execute_result"
    },
    {
     "data": {
      "image/png": "[encoded data removed]",
      "text/plain": [
       "<Figure size 432x288 with 1 Axes>"
      ]
     },
     "metadata": {
      "needs_background": "light"
     },
     "output_type": "display_data"
    }
   ],
   "source": [
    "import matplotlib.pyplot as plt\n",
    "\n",
    "from mpl_toolkits import mplot3d\n",
    "ax = plt.axes(projection='3d')\n",
    "\n",
    "xline = m1_list\n",
    "yline = m2_list\n",
    "zline = c_list\n",
    "\n",
    "plt.xlabel('m1')\n",
    "plt.ylabel('m2')\n",
    "\n",
    "ax.scatter3D(xline, yline, zline, 'gray')"
   ]
  },
  {
   "cell_type": "code",
   "execution_count": null,
   "metadata": {},
   "outputs": [],
   "source": []
  },
  {
   "cell_type": "markdown",
   "metadata": {},
   "source": [
    "## for n=20 nu. of data points:-"
   ]
  },
  {
   "cell_type": "code",
   "execution_count": 38,
   "metadata": {},
   "outputs": [
    {
     "data": {
      "text/html": [
       "<div>\n",
       "<style scoped>\n",
       "    .dataframe tbody tr th:only-of-type {\n",
       "        vertical-align: middle;\n",
       "    }\n",
       "\n",
       "    .dataframe tbody tr th {\n",
       "        vertical-align: top;\n",
       "    }\n",
       "\n",
       "    .dataframe thead th {\n",
       "        text-align: right;\n",
       "    }\n",
       "</style>\n",
       "<table border=\"1\" class=\"dataframe\">\n",
       "  <thead>\n",
       "    <tr style=\"text-align: right;\">\n",
       "      <th></th>\n",
       "      <th>x1</th>\n",
       "      <th>x2</th>\n",
       "      <th>y</th>\n",
       "    </tr>\n",
       "  </thead>\n",
       "  <tbody>\n",
       "    <tr>\n",
       "      <td>0</td>\n",
       "      <td>0.798014</td>\n",
       "      <td>0</td>\n",
       "      <td>0.981742</td>\n",
       "    </tr>\n",
       "    <tr>\n",
       "      <td>1</td>\n",
       "      <td>0.825969</td>\n",
       "      <td>1</td>\n",
       "      <td>0.159033</td>\n",
       "    </tr>\n",
       "    <tr>\n",
       "      <td>2</td>\n",
       "      <td>0.502110</td>\n",
       "      <td>2</td>\n",
       "      <td>0.430791</td>\n",
       "    </tr>\n",
       "    <tr>\n",
       "      <td>3</td>\n",
       "      <td>0.566986</td>\n",
       "      <td>3</td>\n",
       "      <td>0.497880</td>\n",
       "    </tr>\n",
       "    <tr>\n",
       "      <td>4</td>\n",
       "      <td>0.018352</td>\n",
       "      <td>4</td>\n",
       "      <td>0.624797</td>\n",
       "    </tr>\n",
       "  </tbody>\n",
       "</table>\n",
       "</div>"
      ],
      "text/plain": [
       "         x1  x2         y\n",
       "0  0.798014   0  0.981742\n",
       "1  0.825969   1  0.159033\n",
       "2  0.502110   2  0.430791\n",
       "3  0.566986   3  0.497880\n",
       "4  0.018352   4  0.624797"
      ]
     },
     "execution_count": 38,
     "metadata": {},
     "output_type": "execute_result"
    }
   ],
   "source": [
    "df = pd.DataFrame({'x1': np.random.rand(20), 'x2': np.arange(0,20), 'y': np.random.rand(20)})\n",
    "df.head()"
   ]
  },
  {
   "cell_type": "code",
   "execution_count": 98,
   "metadata": {},
   "outputs": [],
   "source": [
    "def update_weights(m1, m2, c, X1,X2, Y, y_pred_for_iteration, loss_list, learning_rate):\n",
    "    \n",
    "    m1_deriv, m2_deriv, c_deriv = 0 , 0, 0 \n",
    "    N = len(X1)\n",
    "    loss = 0\n",
    "    y_pred = []\n",
    "    \n",
    "    for i in range(N):\n",
    "        \n",
    "        pred = m1*X1[i]+m2*X2[i] + c\n",
    "        \n",
    "        ## for every data point:-\n",
    "        y_pred.append(pred)\n",
    "\n",
    "        loss += Y[i] - (pred)\n",
    "        m1_deriv += -2*X1[i] * (Y[i] - (pred))\n",
    "        m2_deriv += -2*X2[i] * (Y[i] - (pred))\n",
    "        c_deriv += -2*(Y[i] - (pred))\n",
    "       \n",
    "    m1_deriv += m1_deriv/N\n",
    "    m2_deriv += m2_deriv/N\n",
    "    c_deriv += c_deriv/N\n",
    "    loss_list.append(loss/N)\n",
    "    y_pred_for_iteration.append(y_pred)\n",
    "    # We subtract because the derivatives point in direction of steepest ascent\n",
    "    m1 -= (m1_deriv / float(N)) * learning_rate\n",
    "    m2 -= (m2_deriv / float(N)) * learning_rate\n",
    "    c -= (c_deriv / float(N)) * learning_rate\n",
    "\n",
    "    return m1, m2, c, y_pred, loss"
   ]
  },
  {
   "cell_type": "code",
   "execution_count": 99,
   "metadata": {},
   "outputs": [
    {
     "data": {
      "text/plain": [
       "nan"
      ]
     },
     "execution_count": 99,
     "metadata": {},
     "output_type": "execute_result"
    }
   ],
   "source": [
    "m1_list, m2_list, c_list, y_pred_for_iteration, loss_list = [], [], [], [], []\n",
    "m1, m2, c= 0, 0, 0\n",
    "for i in range(0,200):\n",
    "        m1, m2, c, y_pred, loss = update_weights(m1 ,m2, c, X1, X2, y, y_pred_for_iteration, loss_list, 0.5)\n",
    "        m1_list.append(m1)\n",
    "        m2_list.append(m2)\n",
    "        c_list.append(c)\n",
    "        m1, m2, c = m1, m2, c\n"
   ]
  },
  {
   "cell_type": "code",
   "execution_count": 100,
   "metadata": {},
   "outputs": [
    {
     "data": {
      "text/plain": [
       "200"
      ]
     },
     "execution_count": 100,
     "metadata": {},
     "output_type": "execute_result"
    }
   ],
   "source": [
    "len(m1_list)"
   ]
  },
  {
   "cell_type": "code",
   "execution_count": null,
   "metadata": {},
   "outputs": [],
   "source": [
    "import matplotlib.pyplot as plt\n",
    "\n",
    "from mpl_toolkits import mplot3d\n",
    "ax = plt.axes(projection='3d')\n",
    "\n",
    "xline = m1_list\n",
    "yline = m2_list\n",
    "zline = c_list\n",
    "\n",
    "plt.xlabel('m1')\n",
    "plt.ylabel('m2')\n",
    "\n",
    "ax.scatter3D(xline, yline, zline, 'gray')"
   ]
  },
  {
   "cell_type": "code",
   "execution_count": 53,
   "metadata": {},
   "outputs": [],
   "source": [
    "## 15/11/19:-"
   ]
  },
  {
   "cell_type": "code",
   "execution_count": null,
   "metadata": {},
   "outputs": [],
   "source": []
  },
  {
   "cell_type": "code",
   "execution_count": 44,
   "metadata": {},
   "outputs": [
    {
     "data": {
      "text/plain": [
       "20"
      ]
     },
     "execution_count": 44,
     "metadata": {},
     "output_type": "execute_result"
    }
   ],
   "source": [
    "len(df['x1'].values)"
   ]
  },
  {
   "cell_type": "code",
   "execution_count": 107,
   "metadata": {},
   "outputs": [
    {
     "data": {
      "text/plain": [
       "<mpl_toolkits.mplot3d.art3d.Path3DCollection at 0xe796710>"
      ]
     },
     "execution_count": 107,
     "metadata": {},
     "output_type": "execute_result"
    },
    {
     "data": {
      "image/png": "[encoded data removed]",
      "text/plain": [
       "<Figure size 432x288 with 1 Axes>"
      ]
     },
     "metadata": {
      "needs_background": "light"
     },
     "output_type": "display_data"
    }
   ],
   "source": [
    "import matplotlib.pyplot as plt\n",
    "\n",
    "from mpl_toolkits import mplot3d\n",
    "ax = plt.axes(projection='3d')\n",
    "\n",
    "xline = m_list\n",
    "yline = error_list\n",
    "zline = c_list\n",
    "\n",
    "plt.xlabel('m')\n",
    "plt.ylabel('error')\n",
    "\n",
    "ax.scatter3D(xline, yline, zline, 'gray')"
   ]
  },
  {
   "cell_type": "code",
   "execution_count": 6,
   "metadata": {},
   "outputs": [
    {
     "data": {
      "text/html": [
       "<div>\n",
       "<style scoped>\n",
       "    .dataframe tbody tr th:only-of-type {\n",
       "        vertical-align: middle;\n",
       "    }\n",
       "\n",
       "    .dataframe tbody tr th {\n",
       "        vertical-align: top;\n",
       "    }\n",
       "\n",
       "    .dataframe thead th {\n",
       "        text-align: right;\n",
       "    }\n",
       "</style>\n",
       "<table border=\"1\" class=\"dataframe\">\n",
       "  <thead>\n",
       "    <tr style=\"text-align: right;\">\n",
       "      <th></th>\n",
       "      <th>Item_Identifier</th>\n",
       "      <th>Item_Weight</th>\n",
       "      <th>Item_Fat_Content</th>\n",
       "      <th>Item_Visibility</th>\n",
       "      <th>Item_Type</th>\n",
       "      <th>Item_MRP</th>\n",
       "      <th>Outlet_Identifier</th>\n",
       "      <th>Outlet_Establishment_Year</th>\n",
       "      <th>Outlet_Size</th>\n",
       "      <th>Outlet_Location_Type</th>\n",
       "      <th>Outlet_Type</th>\n",
       "      <th>Item_Outlet_Sales</th>\n",
       "    </tr>\n",
       "  </thead>\n",
       "  <tbody>\n",
       "    <tr>\n",
       "      <td>0</td>\n",
       "      <td>FDA15</td>\n",
       "      <td>9.30</td>\n",
       "      <td>Low Fat</td>\n",
       "      <td>0.016047</td>\n",
       "      <td>Dairy</td>\n",
       "      <td>249.8092</td>\n",
       "      <td>OUT049</td>\n",
       "      <td>1999</td>\n",
       "      <td>Medium</td>\n",
       "      <td>Tier 1</td>\n",
       "      <td>Supermarket Type1</td>\n",
       "      <td>3735.1380</td>\n",
       "    </tr>\n",
       "    <tr>\n",
       "      <td>1</td>\n",
       "      <td>DRC01</td>\n",
       "      <td>5.92</td>\n",
       "      <td>Regular</td>\n",
       "      <td>0.019278</td>\n",
       "      <td>Soft Drinks</td>\n",
       "      <td>48.2692</td>\n",
       "      <td>OUT018</td>\n",
       "      <td>2009</td>\n",
       "      <td>Medium</td>\n",
       "      <td>Tier 3</td>\n",
       "      <td>Supermarket Type2</td>\n",
       "      <td>443.4228</td>\n",
       "    </tr>\n",
       "    <tr>\n",
       "      <td>2</td>\n",
       "      <td>FDN15</td>\n",
       "      <td>17.50</td>\n",
       "      <td>Low Fat</td>\n",
       "      <td>0.016760</td>\n",
       "      <td>Meat</td>\n",
       "      <td>141.6180</td>\n",
       "      <td>OUT049</td>\n",
       "      <td>1999</td>\n",
       "      <td>Medium</td>\n",
       "      <td>Tier 1</td>\n",
       "      <td>Supermarket Type1</td>\n",
       "      <td>2097.2700</td>\n",
       "    </tr>\n",
       "    <tr>\n",
       "      <td>3</td>\n",
       "      <td>FDX07</td>\n",
       "      <td>19.20</td>\n",
       "      <td>Regular</td>\n",
       "      <td>0.000000</td>\n",
       "      <td>Fruits and Vegetables</td>\n",
       "      <td>182.0950</td>\n",
       "      <td>OUT010</td>\n",
       "      <td>1998</td>\n",
       "      <td>NaN</td>\n",
       "      <td>Tier 3</td>\n",
       "      <td>Grocery Store</td>\n",
       "      <td>732.3800</td>\n",
       "    </tr>\n",
       "    <tr>\n",
       "      <td>4</td>\n",
       "      <td>NCD19</td>\n",
       "      <td>8.93</td>\n",
       "      <td>Low Fat</td>\n",
       "      <td>0.000000</td>\n",
       "      <td>Household</td>\n",
       "      <td>53.8614</td>\n",
       "      <td>OUT013</td>\n",
       "      <td>1987</td>\n",
       "      <td>High</td>\n",
       "      <td>Tier 3</td>\n",
       "      <td>Supermarket Type1</td>\n",
       "      <td>994.7052</td>\n",
       "    </tr>\n",
       "  </tbody>\n",
       "</table>\n",
       "</div>"
      ],
      "text/plain": [
       "  Item_Identifier  Item_Weight Item_Fat_Content  Item_Visibility  \\\n",
       "0           FDA15         9.30          Low Fat         0.016047   \n",
       "1           DRC01         5.92          Regular         0.019278   \n",
       "2           FDN15        17.50          Low Fat         0.016760   \n",
       "3           FDX07        19.20          Regular         0.000000   \n",
       "4           NCD19         8.93          Low Fat         0.000000   \n",
       "\n",
       "               Item_Type  Item_MRP Outlet_Identifier  \\\n",
       "0                  Dairy  249.8092            OUT049   \n",
       "1            Soft Drinks   48.2692            OUT018   \n",
       "2                   Meat  141.6180            OUT049   \n",
       "3  Fruits and Vegetables  182.0950            OUT010   \n",
       "4              Household   53.8614            OUT013   \n",
       "\n",
       "   Outlet_Establishment_Year Outlet_Size Outlet_Location_Type  \\\n",
       "0                       1999      Medium               Tier 1   \n",
       "1                       2009      Medium               Tier 3   \n",
       "2                       1999      Medium               Tier 1   \n",
       "3                       1998         NaN               Tier 3   \n",
       "4                       1987        High               Tier 3   \n",
       "\n",
       "         Outlet_Type  Item_Outlet_Sales  \n",
       "0  Supermarket Type1          3735.1380  \n",
       "1  Supermarket Type2           443.4228  \n",
       "2  Supermarket Type1          2097.2700  \n",
       "3      Grocery Store           732.3800  \n",
       "4  Supermarket Type1           994.7052  "
      ]
     },
     "execution_count": 6,
     "metadata": {},
     "output_type": "execute_result"
    }
   ],
   "source": [
    "import numpy as np\n",
    "import pandas as pd\n",
    "df = pd.read_csv('Big market sales data.csv')\n",
    "df.head()"
   ]
  },
  {
   "cell_type": "code",
   "execution_count": 10,
   "metadata": {},
   "outputs": [
    {
     "data": {
      "text/plain": [
       "Item_Weight                  1.000000\n",
       "Item_Visibility             -0.014048\n",
       "Item_MRP                     0.027141\n",
       "Outlet_Establishment_Year   -0.011588\n",
       "Item_Outlet_Sales            0.014123\n",
       "Name: Item_Weight, dtype: float64"
      ]
     },
     "execution_count": 10,
     "metadata": {},
     "output_type": "execute_result"
    }
   ],
   "source": [
    "df.corr()['Item_Weight']"
   ]
  },
  {
   "cell_type": "code",
   "execution_count": null,
   "metadata": {},
   "outputs": [],
   "source": []
  },
  {
   "cell_type": "code",
   "execution_count": null,
   "metadata": {},
   "outputs": [],
   "source": []
  },
  {
   "cell_type": "code",
   "execution_count": null,
   "metadata": {},
   "outputs": [],
   "source": []
  },
  {
   "cell_type": "code",
   "execution_count": null,
   "metadata": {},
   "outputs": [],
   "source": []
  },
  {
   "cell_type": "code",
   "execution_count": null,
   "metadata": {},
   "outputs": [],
   "source": []
  },
  {
   "cell_type": "code",
   "execution_count": null,
   "metadata": {},
   "outputs": [],
   "source": []
  },
  {
   "cell_type": "code",
   "execution_count": null,
   "metadata": {},
   "outputs": [],
   "source": []
  }
 ],
 "metadata": {
  "kernelspec": {
   "display_name": "Python 3",
   "language": "python",
   "name": "python3"
  },
  "language_info": {
   "codemirror_mode": {
    "name": "ipython",
    "version": 3
   },
   "file_extension": ".py",
   "mimetype": "text/x-python",
   "name": "python",
   "nbconvert_exporter": "python",
   "pygments_lexer": "ipython3",
   "version": "3.5.3"
  }
 },
 "nbformat": 4,
 "nbformat_minor": 2
}
